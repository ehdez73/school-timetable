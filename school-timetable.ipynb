{
 "cells": [
  {
   "cell_type": "markdown",
   "id": "20dc37c8",
   "metadata": {},
   "source": [
    "# School Timetable Generator\n",
    "This notebook uses constraint programming to assign classes to groups and teachers, fulfilling the following restrictions:\n",
    "\n",
    "* Each subject must be taught the specified number of weekly hours.\n",
    "* A teacher cannot teach two classes at the same time.\n",
    "* Teachers cannot exceed their maximum assigned weekly hours.\n",
    "* The maximum number of hours per day for each subject and group is limited.\n",
    "* If a subject is taught more than one hour per day in a group, the hours must be consecutive."
   ]
  },
  {
   "cell_type": "markdown",
   "id": "a69d48cd",
   "metadata": {},
   "source": [
    "## Common definitions"
   ]
  },
  {
   "cell_type": "code",
   "execution_count": null,
   "id": "6acfca21",
   "metadata": {},
   "outputs": [],
   "source": [
    "from ortools.sat.python import cp_model\n",
    "\n",
    "# Create test data\n",
    "class Subject:\n",
    "    def __init__(self, id, name, course, weekly_hours=5, max_hours_per_day=1):\n",
    "        self.id = id\n",
    "        self.course = course\n",
    "        self.name = name\n",
    "        self.weekly_hours = weekly_hours\n",
    "        self.max_hours_per_day = max_hours_per_day\n",
    "    def __repr__(self):\n",
    "        return f\"{self.name} ({self.course})\"\n",
    "\n",
    "class Teacher:\n",
    "    def __init__(self, id, name, max_hours_week=20, subjects=[]):\n",
    "        self.id = id\n",
    "        self.name = name\n",
    "        self.max_hours_week = max_hours_week\n",
    "        self.subjects = subjects\n",
    "    def __repr__(self):\n",
    "        return f\"{self.name}, {self.max_hours_week} h/w, {[s.id for s in self.subjects]}\""
   ]
  },
  {
   "cell_type": "markdown",
   "id": "00c953e1",
   "metadata": {},
   "source": [
    "## Timetable, Subjects and Teachers"
   ]
  },
  {
   "cell_type": "code",
   "execution_count": null,
   "id": "8af37bf5",
   "metadata": {},
   "outputs": [],
   "source": [
    "# Configure the time table\n",
    "num_days = 5\n",
    "num_hours = 5\n",
    "\n",
    "# groups\n",
    "all_groups = [\"1-A\", \"1-B\"]\n",
    "\n",
    "# subjects\n",
    "math1 = Subject(id=\"math1\", name=\"Maths\", course=\"1\", weekly_hours=10, max_hours_per_day=2)\n",
    "eng1 = Subject(id=\"eng1\", name=\"English\", course=\"1\", weekly_hours=10, max_hours_per_day=2)\n",
    "all_subjects = [math1,eng1]\n",
    "\n",
    "# teachers\n",
    "John = Teacher(id=1, name=\"John\", max_hours_week=20, subjects=[math1])\n",
    "Jane = Teacher(id=2, name=\"Jane\", max_hours_week=20, subjects=[eng1])\n",
    "all_teachers = [John, Jane]\n",
    "    \n",
    "print(\"Groups:\", all_groups)\n",
    "print(\"Subjects:\", [repr(s) for s in all_subjects])\n",
    "print(\"Teachers:\", [repr(t) for t in all_teachers])"
   ]
  },
  {
   "cell_type": "markdown",
   "id": "406680fa",
   "metadata": {},
   "source": [
    "## Model & decission variables"
   ]
  },
  {
   "cell_type": "code",
   "execution_count": null,
   "id": "b7c32654",
   "metadata": {},
   "outputs": [],
   "source": [
    "# Initialize model\n",
    "model = cp_model.CpModel()\n",
    "\n",
    "# Create decision variables (group-subject-teacher-day-hour)\n",
    "assignments = {}  \n",
    "for group in all_groups:\n",
    "    course = group.split('-')[0]\n",
    "    for subject in all_subjects:\n",
    "        if subject.course == course:\n",
    "            for teacher in all_teachers:\n",
    "                if subject in teacher.subjects:\n",
    "                    for d in range(num_days):\n",
    "                        for h in range(num_hours):\n",
    "                            key = (group, subject.id, teacher.id, d, h)\n",
    "                            assignments[key] = model.NewBoolVar(f\"g:{group} sub:{subject.id} t:{teacher.name} d:{d} h:{h}\")\n"
   ]
  },
  {
   "cell_type": "markdown",
   "id": "c875aeca",
   "metadata": {},
   "source": [
    "## Restrictions"
   ]
  },
  {
   "cell_type": "code",
   "execution_count": null,
   "id": "1ba4334b",
   "metadata": {},
   "outputs": [],
   "source": [
    "\n",
    "# Each subject must be taught the specified weekly hours\n",
    "for group in all_groups:\n",
    "    course = group.split('-')[0]\n",
    "    for subject in all_subjects:\n",
    "        if subject.course == course:\n",
    "            model.Add(sum(assignments[key] for key in assignments if key[0] == group and key[1] == subject.id) == subject.weekly_hours)\n",
    "\n",
    "# A teacher cannot teach two classes at the same time\n",
    "for teacher in all_teachers:\n",
    "    for d in range(num_days):\n",
    "        for h in range(num_hours):\n",
    "            model.AddAtMostOne(assignments[key] for key in assignments if key[2] == teacher.id and key[3] == d and key[4] == h)\n",
    "\n",
    "# Teachers cannot exceed their maximum assigned weekly hours.\n",
    "for teacher in all_teachers:\n",
    "    max_hours = teacher.max_hours_week\n",
    "    teacher_total_hours = sum(assignments[key] for key in assignments if key[2] == teacher.id)\n",
    "    model.Add(teacher_total_hours <= max_hours)\n",
    "    \n",
    "# The maximum number of hours per day for each subject and group is limited.\n",
    "for group in all_groups:\n",
    "    course = group.split('-')[0]\n",
    "    for subject in all_subjects:\n",
    "        if subject.course == course:\n",
    "            for teacher in all_teachers:\n",
    "                if subject in teacher.subjects:\n",
    "                    for d in range(num_days):\n",
    "                        # Get hours for this specific group-subject-teacher combination\n",
    "                        hour_vars = [assignments[key] for key in assignments  if key[0] == group and key[1] == subject.id and key[2] == teacher.id and key[3] == d]\n",
    "                        model.Add(sum(hour_vars) <=subject.max_hours_per_day)"
   ]
  },
  {
   "cell_type": "markdown",
   "id": "7bf86461",
   "metadata": {},
   "source": [
    "The following cell is commented because it is not working as expected"
   ]
  },
  {
   "cell_type": "code",
   "execution_count": null,
   "id": "ad98e74d",
   "metadata": {},
   "outputs": [],
   "source": [
    "#If a subject is taught more than one hour per day in a group, the hours must be consecutive.\n",
    "\n",
    "for group in all_groups:\n",
    "    course = group.split('-')[0]\n",
    "    for subject in all_subjects:\n",
    "        if subject.course == course:\n",
    "            for d in range(num_days):\n",
    "                # 1) create aggregated variables y_h\n",
    "                y_vars = []\n",
    "                for h in range(num_hours):\n",
    "                    y = model.NewBoolVar(f\"y_{group}_{subject.id}_d{d}_h{h}\")  # y[group,subject,day,h]\n",
    "                    # Link y with the assignment variables (sum over teachers)\n",
    "                    assign_vars = [\n",
    "                        assignments[key]\n",
    "                        for key in assignments\n",
    "                        if key[0] == group and key[1] == subject.id and key[3] == d and key[4] == h\n",
    "                    ]\n",
    "                    if assign_vars:\n",
    "                        # Equality: y == sum(assign_vars). (Assumes no two teachers simultaneously for the same group-subject-slot.)\n",
    "                        model.Add(sum(assign_vars) == y)\n",
    "                    else:\n",
    "                        # if there are no possible teachers for that slot, force y == 0\n",
    "                        model.Add(y == 0)\n",
    "                    y_vars.append(y)\n",
    "\n",
    "                # 2) define starts: start_h = 1 if y_h == 1 and y_{h-1} == 0\n",
    "                starts = []\n",
    "                for h in range(num_hours):\n",
    "                    s = model.NewBoolVar(f\"start_{group}_{subject.id}_d{d}_h{h}\")\n",
    "                    starts.append(s)\n",
    "                    if h == 0:\n",
    "                        # start at h=0 <=> y_0\n",
    "                        model.Add(s == y_vars[0])\n",
    "                    else:\n",
    "                        # linearization of s == y_h & (not y_{h-1}):\n",
    "                        #  s >= y_h - y_{h-1}\n",
    "                        #  s <= y_h\n",
    "                        #  s <= 1 - y_{h-1}\n",
    "                        model.Add(s >= y_vars[h] - y_vars[h-1])\n",
    "                        model.Add(s <= y_vars[h])\n",
    "                        model.Add(s <= 1 - y_vars[h-1])\n",
    "\n",
    "                # 3) at most one block start per day -> ensures a single contiguous block (or none)\n",
    "                model.Add(sum(starts) <= 1)\n",
    "\n"
   ]
  },
  {
   "cell_type": "markdown",
   "id": "e2025375",
   "metadata": {},
   "source": [
    "## Solving the problem"
   ]
  },
  {
   "cell_type": "code",
   "execution_count": null,
   "id": "88541278",
   "metadata": {},
   "outputs": [],
   "source": [
    "# Solve the model and display the timetable\n",
    "from IPython.display import display, Markdown\n",
    "\n",
    "solver = cp_model.CpSolver()\n",
    "status = solver.Solve(model)\n",
    "\n",
    "# Create and display markdown timetable\n",
    "if status == cp_model.FEASIBLE or status == cp_model.OPTIMAL:\n",
    "    for group in all_groups:\n",
    "        course = group.split('-')[0]\n",
    "        markdown_text = [f\"## Schedule for {group}\\n\"]\n",
    "        markdown_text.append(\"| Hour | Monday | Tuesday | Wednesday | Thursday | Friday |\")\n",
    "        markdown_text.append(\"|------|---------|----------|-----------|-----------|---------|\")\n",
    "        \n",
    "        for h in range(num_hours):\n",
    "            row = [f\"Hour {h}\"]\n",
    "            for d in range(num_days):\n",
    "                cell_content = \"\"\n",
    "                for subject in all_subjects:\n",
    "                    if subject.course == course:\n",
    "                        for teacher in all_teachers:\n",
    "                            if subject in teacher.subjects:\n",
    "                                key = (group, subject.id, teacher.id, d, h)\n",
    "                                if solver.Value(assignments[key]) == 1:\n",
    "                                    cell_content = f\"{subject.name}<br>{teacher.name}\"\n",
    "                row.append(cell_content if cell_content else \"-\")\n",
    "            markdown_text.append(f\"| {' | '.join(row)} |\")\n",
    "        \n",
    "        # Display the timetable as rendered markdown\n",
    "        display(Markdown('\\n'.join(markdown_text)))\n",
    "else:\n",
    "    print(\"No feasible solution found.\")"
   ]
  }
 ],
 "metadata": {
  "kernelspec": {
   "display_name": "school-timetable",
   "language": "python",
   "name": "python3"
  },
  "language_info": {
   "codemirror_mode": {
    "name": "ipython",
    "version": 3
   },
   "file_extension": ".py",
   "mimetype": "text/x-python",
   "name": "python",
   "nbconvert_exporter": "python",
   "pygments_lexer": "ipython3",
   "version": "3.13.7"
  }
 },
 "nbformat": 4,
 "nbformat_minor": 5
}
