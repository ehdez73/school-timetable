{
 "cells": [
  {
   "cell_type": "markdown",
   "id": "20dc37c8",
   "metadata": {},
   "source": [
    "# School Timetable Generator\n",
    "This notebook uses constraint programming to assign classes to groups and teachers, fulfilling the following restrictions:\n",
    "\n",
    "* Each subject must be taught the specified number of weekly hours.\n",
    "* A teacher cannot teach two classes at the same time.\n",
    "* Teachers cannot exceed their maximum assigned weekly hours.\n",
    "* The maximum number of hours per day for each subject and group is limited.\n",
    "* If a subject is taught more than one hour per day in a group, the hours must be consecutive."
   ]
  },
  {
   "cell_type": "markdown",
   "id": "a69d48cd",
   "metadata": {},
   "source": [
    "## Common definitions"
   ]
  },
  {
   "cell_type": "code",
   "execution_count": null,
   "id": "6acfca21",
   "metadata": {},
   "outputs": [],
   "source": [
    "from ortools.sat.python import cp_model\n",
    "\n",
    "# Create test data\n",
    "class Subject:\n",
    "    def __init__(self, id, name, course, weekly_hours=5, max_hours_per_day=1):\n",
    "        self.id = id\n",
    "        self.course = course\n",
    "        self.name = name\n",
    "        self.weekly_hours = weekly_hours\n",
    "        self.max_hours_per_day = max_hours_per_day\n",
    "    def __repr__(self):\n",
    "        return f\"{self.name} ({self.course})\"\n",
    "\n",
    "class Teacher:\n",
    "    def __init__(self, id, name, max_hours_week=20, subjects=[]):\n",
    "        self.id = id\n",
    "        self.name = name\n",
    "        self.max_hours_week = max_hours_week\n",
    "        self.subjects = subjects\n",
    "    def __repr__(self):\n",
    "        return f\"{self.name}, {self.max_hours_week} h/w, {[s.id for s in self.subjects]}\""
   ]
  },
  {
   "cell_type": "markdown",
   "id": "00c953e1",
   "metadata": {},
   "source": [
    "## Timetable, Subjects and Teachers"
   ]
  },
  {
   "cell_type": "code",
   "execution_count": null,
   "id": "8af37bf5",
   "metadata": {},
   "outputs": [],
   "source": [
    "# Configure the time table\n",
    "num_days = 5\n",
    "num_hours = 5\n",
    "\n",
    "all_groups = [\"1-A\", \"1-B\"]\n",
    "\n",
    "# Subjects\n",
    "math1 = Subject(id=\"math1\", name=\"Maths\", course=\"1\", weekly_hours=10, max_hours_per_day=2)\n",
    "all_subjects = [math1]\n",
    "\n",
    "\n",
    "# Teachers\n",
    "John = Teacher(id=1, name=\"John\", max_hours_week=25, subjects=[math1])\n",
    "all_teachers = [John]\n",
    "\n",
    "print(\"Groups:\", all_groups)\n",
    "print(\"Subjects:\", [repr(s) for s in all_subjects])\n",
    "print(\"Teachers:\", [repr(t) for t in all_teachers])"
   ]
  },
  {
   "cell_type": "markdown",
   "id": "406680fa",
   "metadata": {},
   "source": [
    "## Model & decission variables"
   ]
  },
  {
   "cell_type": "code",
   "execution_count": null,
   "id": "b7c32654",
   "metadata": {},
   "outputs": [],
   "source": [
    "# Initialize model\n",
    "model = cp_model.CpModel()\n",
    "\n",
    "# Create decision variables (group-subject-teacher-day-hour)\n",
    "assignments = {}  \n",
    "for group in all_groups:\n",
    "    course = group.split('-')[0]\n",
    "    for subject in all_subjects:\n",
    "        if subject.course == course:\n",
    "            for teacher in all_teachers:\n",
    "                if subject in teacher.subjects:\n",
    "                    for d in range(num_days):\n",
    "                        for h in range(num_hours):\n",
    "                            key = (group, subject.id, teacher.id, d, h)\n",
    "                            assignments[key] = model.NewBoolVar(f\"g:{group} sub:{subject.id} t:{teacher.name} d:{d} h:{h}\")\n"
   ]
  },
  {
   "cell_type": "markdown",
   "id": "c875aeca",
   "metadata": {},
   "source": [
    "## Restrictions"
   ]
  },
  {
   "cell_type": "code",
   "execution_count": null,
   "id": "1ba4334b",
   "metadata": {},
   "outputs": [],
   "source": [
    "\n",
    "# Each subject must be taught the specified weekly hours\n",
    "for group in all_groups:\n",
    "    course = group.split('-')[0]\n",
    "    for subject in all_subjects:\n",
    "        if subject.course == course:\n",
    "            model.Add(sum(assignments[key] for key in assignments if key[0] == group and key[1] == subject.id) == subject.weekly_hours)\n",
    "\n",
    "# A teacher cannot teach two classes at the same time\n",
    "for teacher in all_teachers:\n",
    "    for d in range(num_days):\n",
    "        for h in range(num_hours):\n",
    "            model.AddAtMostOne(assignments[key] for key in assignments if key[2] == teacher.id and key[3] == d and key[4] == h)\n",
    "\n",
    "# Teachers cannot exceed their maximum assigned weekly hours.\n",
    "for teacher in all_teachers:\n",
    "    max_hours = teacher.max_hours_week\n",
    "    teacher_total_hours = sum(assignments[key] for key in assignments if key[2] == teacher.id)\n",
    "    model.Add(teacher_total_hours <= max_hours)\n",
    "    \n",
    "# The maximum number of hours per day for each subject and group is limited.\n",
    "for group in all_groups:\n",
    "    course = group.split('-')[0]\n",
    "    for subject in all_subjects:\n",
    "        if subject.course == course:\n",
    "            for teacher in all_teachers:\n",
    "                if subject in teacher.subjects:\n",
    "                    for d in range(num_days):\n",
    "                        # Get hours for this specific group-subject-teacher combination\n",
    "                        hour_vars = [assignments[key] for key in assignments  if key[0] == group and key[1] == subject.id and key[2] == teacher.id and key[3] == d]\n",
    "                        model.Add(sum(hour_vars) <=subject.max_hours_per_day)"
   ]
  },
  {
   "cell_type": "markdown",
   "id": "7bf86461",
   "metadata": {},
   "source": [
    "The following cell is commented because it is not working as expected"
   ]
  },
  {
   "cell_type": "code",
   "execution_count": null,
   "id": "ad98e74d",
   "metadata": {},
   "outputs": [],
   "source": [
    "# # If a subject is taught more than one hour per day in a group, the hours must be consecutive.\n",
    "\n",
    "# for group in all_groups:\n",
    "#     course = group.split('-')[0]\n",
    "#     for subject in all_subjects:\n",
    "#         if subject.course == course:\n",
    "#             for d in range(num_days):\n",
    "#                 # For each hour, create a variable indicating if there's a class or not\n",
    "#                 hour_vars = []\n",
    "#                 for h in range(num_hours):\n",
    "#                     # Find all possible assignments for this hour\n",
    "#                     vars_at_hour = [assignments[key] for key in assignments \n",
    "#                                     if key[0] == group and key[1] == subject.id \n",
    "#                                     and key[3] == d and key[4] == h]\n",
    "#                     if vars_at_hour:\n",
    "#                         # If there are possible assignments, create variable representing \"there's a class at this hour\"\n",
    "#                         hour_var = model.NewBoolVar(f\"class_{subject.id}_{group}_{d}_{h}\")\n",
    "#                         model.AddBoolOr(vars_at_hour).OnlyEnforceIf(hour_var)\n",
    "#                         model.AddBoolAnd([v.Not() for v in vars_at_hour]).OnlyEnforceIf(hour_var.Not())\n",
    "#                         hour_vars.append(hour_var)\n",
    "\n",
    "#                 if len(hour_vars) > 1:\n",
    "#                     # For each non-adjacent pair of hours\n",
    "#                     for h1 in range(len(hour_vars)):\n",
    "#                         for h2 in range(h1 + 2, len(hour_vars)):  # h2 > h1 + 1\n",
    "#                             # Create variable for this constraint\n",
    "#                             consecutive = model.NewBoolVar(f\"{subject.id}:{group}:{d}:{h1}-{h2}\")\n",
    "                            \n",
    "#                             # If h1 and h2 are assigned\n",
    "#                             model.AddBoolAnd([hour_vars[h1], hour_vars[h2]]).OnlyEnforceIf(consecutive)\n",
    "\n",
    "#                             # Then all intermediate hours must be assigned\n",
    "#                             middle_hours = [hour_vars[h] for h in range(h1 + 1, h2)]\n",
    "#                             if middle_hours:\n",
    "#                                 model.AddBoolAnd(middle_hours).OnlyEnforceIf(consecutive)\n",
    "\n",
    "#                             # Force the constraint to be satisfied\n",
    "#                             model.Add(consecutive == 1)\n"
   ]
  },
  {
   "cell_type": "markdown",
   "id": "e2025375",
   "metadata": {},
   "source": [
    "## Solving the problem"
   ]
  },
  {
   "cell_type": "code",
   "execution_count": null,
   "id": "88541278",
   "metadata": {},
   "outputs": [],
   "source": [
    "# Solve the model and display the timetable\n",
    "from IPython.display import display, Markdown\n",
    "\n",
    "solver = cp_model.CpSolver()\n",
    "status = solver.Solve(model)\n",
    "\n",
    "# Create and display markdown timetable\n",
    "if status == cp_model.FEASIBLE or status == cp_model.OPTIMAL:\n",
    "    for group in all_groups:\n",
    "        course = group.split('-')[0]\n",
    "        markdown_text = [f\"## Schedule for {group}\\n\"]\n",
    "        markdown_text.append(\"| Hour | Monday | Tuesday | Wednesday | Thursday | Friday |\")\n",
    "        markdown_text.append(\"|------|---------|----------|-----------|-----------|---------|\")\n",
    "        \n",
    "        for h in range(num_hours):\n",
    "            row = [f\"Hour {h}\"]\n",
    "            for d in range(num_days):\n",
    "                cell_content = \"\"\n",
    "                for subject in all_subjects:\n",
    "                    if subject.course == course:\n",
    "                        for teacher in all_teachers:\n",
    "                            if subject in teacher.subjects:\n",
    "                                key = (group, subject.id, teacher.id, d, h)\n",
    "                                if solver.Value(assignments[key]) == 1:\n",
    "                                    cell_content = f\"{subject.name}<br>{teacher.name}\"\n",
    "                row.append(cell_content if cell_content else \"-\")\n",
    "            markdown_text.append(f\"| {' | '.join(row)} |\")\n",
    "        \n",
    "        # Display the timetable as rendered markdown\n",
    "        display(Markdown('\\n'.join(markdown_text)))\n",
    "else:\n",
    "    print(\"No feasible solution found.\")"
   ]
  }
 ],
 "metadata": {
  "kernelspec": {
   "display_name": "school-timetable",
   "language": "python",
   "name": "python3"
  },
  "language_info": {
   "codemirror_mode": {
    "name": "ipython",
    "version": 3
   },
   "file_extension": ".py",
   "mimetype": "text/x-python",
   "name": "python",
   "nbconvert_exporter": "python",
   "pygments_lexer": "ipython3",
   "version": "3.13.7"
  }
 },
 "nbformat": 4,
 "nbformat_minor": 5
}
